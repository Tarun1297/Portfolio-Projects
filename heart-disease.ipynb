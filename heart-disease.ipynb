{
 "cells": [
  {
   "cell_type": "code",
   "execution_count": 1,
   "id": "29ca085f",
   "metadata": {
    "_cell_guid": "b1076dfc-b9ad-4769-8c92-a6c4dae69d19",
    "_uuid": "8f2839f25d086af736a60e9eeb907d3b93b6e0e5",
    "execution": {
     "iopub.execute_input": "2021-08-07T06:20:38.408403Z",
     "iopub.status.busy": "2021-08-07T06:20:38.407677Z",
     "iopub.status.idle": "2021-08-07T06:20:38.420172Z",
     "shell.execute_reply": "2021-08-07T06:20:38.420649Z",
     "shell.execute_reply.started": "2021-08-07T06:15:41.63387Z"
    },
    "papermill": {
     "duration": 0.051465,
     "end_time": "2021-08-07T06:20:38.420961",
     "exception": false,
     "start_time": "2021-08-07T06:20:38.369496",
     "status": "completed"
    },
    "tags": []
   },
   "outputs": [
    {
     "name": "stdout",
     "output_type": "stream",
     "text": [
      "/kaggle/input/heart-failure-clinical-data/heart_failure_clinical_records_dataset.csv\n"
     ]
    }
   ],
   "source": [
    "# This Python 3 environment comes with many helpful analytics libraries installed\n",
    "# It is defined by the kaggle/python Docker image: https://github.com/kaggle/docker-python\n",
    "# For example, here's several helpful packages to load\n",
    "\n",
    "import numpy as np # linear algebra\n",
    "import pandas as pd # data processing, CSV file I/O (e.g. pd.read_csv)\n",
    "\n",
    "# Input data files are available in the read-only \"../input/\" directory\n",
    "# For example, running this (by clicking run or pressing Shift+Enter) will list all files under the input directory\n",
    "\n",
    "import os\n",
    "for dirname, _, filenames in os.walk('/kaggle/input'):\n",
    "    for filename in filenames:\n",
    "        print(os.path.join(dirname, filename))\n",
    "\n",
    "# You can write up to 20GB to the current directory (/kaggle/working/) that gets preserved as output when you create a version using \"Save & Run All\" \n",
    "# You can also write temporary files to /kaggle/temp/, but they won't be saved outside of the current session"
   ]
  },
  {
   "cell_type": "code",
   "execution_count": 2,
   "id": "3f663dcc",
   "metadata": {
    "execution": {
     "iopub.execute_input": "2021-08-07T06:20:38.476442Z",
     "iopub.status.busy": "2021-08-07T06:20:38.475606Z",
     "iopub.status.idle": "2021-08-07T06:20:39.806562Z",
     "shell.execute_reply": "2021-08-07T06:20:39.805862Z",
     "shell.execute_reply.started": "2021-08-07T06:15:41.653203Z"
    },
    "papermill": {
     "duration": 1.361763,
     "end_time": "2021-08-07T06:20:39.806714",
     "exception": false,
     "start_time": "2021-08-07T06:20:38.444951",
     "status": "completed"
    },
    "tags": []
   },
   "outputs": [],
   "source": [
    "import numpy as np\n",
    "import pandas as pd\n",
    "import seaborn as sns\n",
    "import matplotlib.pyplot as plt\n",
    "from sklearn.model_selection import train_test_split\n",
    "%matplotlib inline\n",
    "import xgboost\n",
    "from sklearn.ensemble import RandomForestClassifier"
   ]
  },
  {
   "cell_type": "code",
   "execution_count": 3,
   "id": "b7ae067b",
   "metadata": {
    "execution": {
     "iopub.execute_input": "2021-08-07T06:20:39.857508Z",
     "iopub.status.busy": "2021-08-07T06:20:39.856784Z",
     "iopub.status.idle": "2021-08-07T06:20:39.898645Z",
     "shell.execute_reply": "2021-08-07T06:20:39.897822Z",
     "shell.execute_reply.started": "2021-08-07T06:15:43.132649Z"
    },
    "papermill": {
     "duration": 0.069468,
     "end_time": "2021-08-07T06:20:39.898818",
     "exception": false,
     "start_time": "2021-08-07T06:20:39.829350",
     "status": "completed"
    },
    "tags": []
   },
   "outputs": [
    {
     "data": {
      "text/html": [
       "<div>\n",
       "<style scoped>\n",
       "    .dataframe tbody tr th:only-of-type {\n",
       "        vertical-align: middle;\n",
       "    }\n",
       "\n",
       "    .dataframe tbody tr th {\n",
       "        vertical-align: top;\n",
       "    }\n",
       "\n",
       "    .dataframe thead th {\n",
       "        text-align: right;\n",
       "    }\n",
       "</style>\n",
       "<table border=\"1\" class=\"dataframe\">\n",
       "  <thead>\n",
       "    <tr style=\"text-align: right;\">\n",
       "      <th></th>\n",
       "      <th>age</th>\n",
       "      <th>anaemia</th>\n",
       "      <th>creatinine_phosphokinase</th>\n",
       "      <th>diabetes</th>\n",
       "      <th>ejection_fraction</th>\n",
       "      <th>high_blood_pressure</th>\n",
       "      <th>platelets</th>\n",
       "      <th>serum_creatinine</th>\n",
       "      <th>serum_sodium</th>\n",
       "      <th>sex</th>\n",
       "      <th>smoking</th>\n",
       "      <th>time</th>\n",
       "      <th>DEATH_EVENT</th>\n",
       "    </tr>\n",
       "  </thead>\n",
       "  <tbody>\n",
       "    <tr>\n",
       "      <th>0</th>\n",
       "      <td>75.0</td>\n",
       "      <td>0</td>\n",
       "      <td>582</td>\n",
       "      <td>0</td>\n",
       "      <td>20</td>\n",
       "      <td>1</td>\n",
       "      <td>265000.00</td>\n",
       "      <td>1.9</td>\n",
       "      <td>130</td>\n",
       "      <td>1</td>\n",
       "      <td>0</td>\n",
       "      <td>4</td>\n",
       "      <td>1</td>\n",
       "    </tr>\n",
       "    <tr>\n",
       "      <th>1</th>\n",
       "      <td>55.0</td>\n",
       "      <td>0</td>\n",
       "      <td>7861</td>\n",
       "      <td>0</td>\n",
       "      <td>38</td>\n",
       "      <td>0</td>\n",
       "      <td>263358.03</td>\n",
       "      <td>1.1</td>\n",
       "      <td>136</td>\n",
       "      <td>1</td>\n",
       "      <td>0</td>\n",
       "      <td>6</td>\n",
       "      <td>1</td>\n",
       "    </tr>\n",
       "    <tr>\n",
       "      <th>2</th>\n",
       "      <td>65.0</td>\n",
       "      <td>0</td>\n",
       "      <td>146</td>\n",
       "      <td>0</td>\n",
       "      <td>20</td>\n",
       "      <td>0</td>\n",
       "      <td>162000.00</td>\n",
       "      <td>1.3</td>\n",
       "      <td>129</td>\n",
       "      <td>1</td>\n",
       "      <td>1</td>\n",
       "      <td>7</td>\n",
       "      <td>1</td>\n",
       "    </tr>\n",
       "    <tr>\n",
       "      <th>3</th>\n",
       "      <td>50.0</td>\n",
       "      <td>1</td>\n",
       "      <td>111</td>\n",
       "      <td>0</td>\n",
       "      <td>20</td>\n",
       "      <td>0</td>\n",
       "      <td>210000.00</td>\n",
       "      <td>1.9</td>\n",
       "      <td>137</td>\n",
       "      <td>1</td>\n",
       "      <td>0</td>\n",
       "      <td>7</td>\n",
       "      <td>1</td>\n",
       "    </tr>\n",
       "    <tr>\n",
       "      <th>4</th>\n",
       "      <td>65.0</td>\n",
       "      <td>1</td>\n",
       "      <td>160</td>\n",
       "      <td>1</td>\n",
       "      <td>20</td>\n",
       "      <td>0</td>\n",
       "      <td>327000.00</td>\n",
       "      <td>2.7</td>\n",
       "      <td>116</td>\n",
       "      <td>0</td>\n",
       "      <td>0</td>\n",
       "      <td>8</td>\n",
       "      <td>1</td>\n",
       "    </tr>\n",
       "  </tbody>\n",
       "</table>\n",
       "</div>"
      ],
      "text/plain": [
       "    age  anaemia  creatinine_phosphokinase  diabetes  ejection_fraction  \\\n",
       "0  75.0        0                       582         0                 20   \n",
       "1  55.0        0                      7861         0                 38   \n",
       "2  65.0        0                       146         0                 20   \n",
       "3  50.0        1                       111         0                 20   \n",
       "4  65.0        1                       160         1                 20   \n",
       "\n",
       "   high_blood_pressure  platelets  serum_creatinine  serum_sodium  sex  \\\n",
       "0                    1  265000.00               1.9           130    1   \n",
       "1                    0  263358.03               1.1           136    1   \n",
       "2                    0  162000.00               1.3           129    1   \n",
       "3                    0  210000.00               1.9           137    1   \n",
       "4                    0  327000.00               2.7           116    0   \n",
       "\n",
       "   smoking  time  DEATH_EVENT  \n",
       "0        0     4            1  \n",
       "1        0     6            1  \n",
       "2        1     7            1  \n",
       "3        0     7            1  \n",
       "4        0     8            1  "
      ]
     },
     "execution_count": 3,
     "metadata": {},
     "output_type": "execute_result"
    }
   ],
   "source": [
    "file_path = '../input/heart-failure-clinical-data'\n",
    "heart_data = pd.read_csv('/kaggle/input/heart-failure-clinical-data/heart_failure_clinical_records_dataset.csv')\n",
    "heart_data.head()"
   ]
  },
  {
   "cell_type": "code",
   "execution_count": 4,
   "id": "508fefa6",
   "metadata": {
    "execution": {
     "iopub.execute_input": "2021-08-07T06:20:39.950094Z",
     "iopub.status.busy": "2021-08-07T06:20:39.949246Z",
     "iopub.status.idle": "2021-08-07T06:20:40.006378Z",
     "shell.execute_reply": "2021-08-07T06:20:40.005705Z",
     "shell.execute_reply.started": "2021-08-07T06:15:43.175813Z"
    },
    "papermill": {
     "duration": 0.083502,
     "end_time": "2021-08-07T06:20:40.006517",
     "exception": false,
     "start_time": "2021-08-07T06:20:39.923015",
     "status": "completed"
    },
    "tags": []
   },
   "outputs": [
    {
     "data": {
      "text/html": [
       "<div>\n",
       "<style scoped>\n",
       "    .dataframe tbody tr th:only-of-type {\n",
       "        vertical-align: middle;\n",
       "    }\n",
       "\n",
       "    .dataframe tbody tr th {\n",
       "        vertical-align: top;\n",
       "    }\n",
       "\n",
       "    .dataframe thead th {\n",
       "        text-align: right;\n",
       "    }\n",
       "</style>\n",
       "<table border=\"1\" class=\"dataframe\">\n",
       "  <thead>\n",
       "    <tr style=\"text-align: right;\">\n",
       "      <th></th>\n",
       "      <th>age</th>\n",
       "      <th>anaemia</th>\n",
       "      <th>creatinine_phosphokinase</th>\n",
       "      <th>diabetes</th>\n",
       "      <th>ejection_fraction</th>\n",
       "      <th>high_blood_pressure</th>\n",
       "      <th>platelets</th>\n",
       "      <th>serum_creatinine</th>\n",
       "      <th>serum_sodium</th>\n",
       "      <th>sex</th>\n",
       "      <th>smoking</th>\n",
       "      <th>time</th>\n",
       "      <th>DEATH_EVENT</th>\n",
       "    </tr>\n",
       "  </thead>\n",
       "  <tbody>\n",
       "    <tr>\n",
       "      <th>count</th>\n",
       "      <td>299.000000</td>\n",
       "      <td>299.000000</td>\n",
       "      <td>299.000000</td>\n",
       "      <td>299.000000</td>\n",
       "      <td>299.000000</td>\n",
       "      <td>299.000000</td>\n",
       "      <td>299.000000</td>\n",
       "      <td>299.00000</td>\n",
       "      <td>299.000000</td>\n",
       "      <td>299.000000</td>\n",
       "      <td>299.00000</td>\n",
       "      <td>299.000000</td>\n",
       "      <td>299.00000</td>\n",
       "    </tr>\n",
       "    <tr>\n",
       "      <th>mean</th>\n",
       "      <td>60.833893</td>\n",
       "      <td>0.431438</td>\n",
       "      <td>581.839465</td>\n",
       "      <td>0.418060</td>\n",
       "      <td>38.083612</td>\n",
       "      <td>0.351171</td>\n",
       "      <td>263358.029264</td>\n",
       "      <td>1.39388</td>\n",
       "      <td>136.625418</td>\n",
       "      <td>0.648829</td>\n",
       "      <td>0.32107</td>\n",
       "      <td>130.260870</td>\n",
       "      <td>0.32107</td>\n",
       "    </tr>\n",
       "    <tr>\n",
       "      <th>std</th>\n",
       "      <td>11.894809</td>\n",
       "      <td>0.496107</td>\n",
       "      <td>970.287881</td>\n",
       "      <td>0.494067</td>\n",
       "      <td>11.834841</td>\n",
       "      <td>0.478136</td>\n",
       "      <td>97804.236869</td>\n",
       "      <td>1.03451</td>\n",
       "      <td>4.412477</td>\n",
       "      <td>0.478136</td>\n",
       "      <td>0.46767</td>\n",
       "      <td>77.614208</td>\n",
       "      <td>0.46767</td>\n",
       "    </tr>\n",
       "    <tr>\n",
       "      <th>min</th>\n",
       "      <td>40.000000</td>\n",
       "      <td>0.000000</td>\n",
       "      <td>23.000000</td>\n",
       "      <td>0.000000</td>\n",
       "      <td>14.000000</td>\n",
       "      <td>0.000000</td>\n",
       "      <td>25100.000000</td>\n",
       "      <td>0.50000</td>\n",
       "      <td>113.000000</td>\n",
       "      <td>0.000000</td>\n",
       "      <td>0.00000</td>\n",
       "      <td>4.000000</td>\n",
       "      <td>0.00000</td>\n",
       "    </tr>\n",
       "    <tr>\n",
       "      <th>25%</th>\n",
       "      <td>51.000000</td>\n",
       "      <td>0.000000</td>\n",
       "      <td>116.500000</td>\n",
       "      <td>0.000000</td>\n",
       "      <td>30.000000</td>\n",
       "      <td>0.000000</td>\n",
       "      <td>212500.000000</td>\n",
       "      <td>0.90000</td>\n",
       "      <td>134.000000</td>\n",
       "      <td>0.000000</td>\n",
       "      <td>0.00000</td>\n",
       "      <td>73.000000</td>\n",
       "      <td>0.00000</td>\n",
       "    </tr>\n",
       "    <tr>\n",
       "      <th>50%</th>\n",
       "      <td>60.000000</td>\n",
       "      <td>0.000000</td>\n",
       "      <td>250.000000</td>\n",
       "      <td>0.000000</td>\n",
       "      <td>38.000000</td>\n",
       "      <td>0.000000</td>\n",
       "      <td>262000.000000</td>\n",
       "      <td>1.10000</td>\n",
       "      <td>137.000000</td>\n",
       "      <td>1.000000</td>\n",
       "      <td>0.00000</td>\n",
       "      <td>115.000000</td>\n",
       "      <td>0.00000</td>\n",
       "    </tr>\n",
       "    <tr>\n",
       "      <th>75%</th>\n",
       "      <td>70.000000</td>\n",
       "      <td>1.000000</td>\n",
       "      <td>582.000000</td>\n",
       "      <td>1.000000</td>\n",
       "      <td>45.000000</td>\n",
       "      <td>1.000000</td>\n",
       "      <td>303500.000000</td>\n",
       "      <td>1.40000</td>\n",
       "      <td>140.000000</td>\n",
       "      <td>1.000000</td>\n",
       "      <td>1.00000</td>\n",
       "      <td>203.000000</td>\n",
       "      <td>1.00000</td>\n",
       "    </tr>\n",
       "    <tr>\n",
       "      <th>max</th>\n",
       "      <td>95.000000</td>\n",
       "      <td>1.000000</td>\n",
       "      <td>7861.000000</td>\n",
       "      <td>1.000000</td>\n",
       "      <td>80.000000</td>\n",
       "      <td>1.000000</td>\n",
       "      <td>850000.000000</td>\n",
       "      <td>9.40000</td>\n",
       "      <td>148.000000</td>\n",
       "      <td>1.000000</td>\n",
       "      <td>1.00000</td>\n",
       "      <td>285.000000</td>\n",
       "      <td>1.00000</td>\n",
       "    </tr>\n",
       "  </tbody>\n",
       "</table>\n",
       "</div>"
      ],
      "text/plain": [
       "              age     anaemia  creatinine_phosphokinase    diabetes  \\\n",
       "count  299.000000  299.000000                299.000000  299.000000   \n",
       "mean    60.833893    0.431438                581.839465    0.418060   \n",
       "std     11.894809    0.496107                970.287881    0.494067   \n",
       "min     40.000000    0.000000                 23.000000    0.000000   \n",
       "25%     51.000000    0.000000                116.500000    0.000000   \n",
       "50%     60.000000    0.000000                250.000000    0.000000   \n",
       "75%     70.000000    1.000000                582.000000    1.000000   \n",
       "max     95.000000    1.000000               7861.000000    1.000000   \n",
       "\n",
       "       ejection_fraction  high_blood_pressure      platelets  \\\n",
       "count         299.000000           299.000000     299.000000   \n",
       "mean           38.083612             0.351171  263358.029264   \n",
       "std            11.834841             0.478136   97804.236869   \n",
       "min            14.000000             0.000000   25100.000000   \n",
       "25%            30.000000             0.000000  212500.000000   \n",
       "50%            38.000000             0.000000  262000.000000   \n",
       "75%            45.000000             1.000000  303500.000000   \n",
       "max            80.000000             1.000000  850000.000000   \n",
       "\n",
       "       serum_creatinine  serum_sodium         sex    smoking        time  \\\n",
       "count         299.00000    299.000000  299.000000  299.00000  299.000000   \n",
       "mean            1.39388    136.625418    0.648829    0.32107  130.260870   \n",
       "std             1.03451      4.412477    0.478136    0.46767   77.614208   \n",
       "min             0.50000    113.000000    0.000000    0.00000    4.000000   \n",
       "25%             0.90000    134.000000    0.000000    0.00000   73.000000   \n",
       "50%             1.10000    137.000000    1.000000    0.00000  115.000000   \n",
       "75%             1.40000    140.000000    1.000000    1.00000  203.000000   \n",
       "max             9.40000    148.000000    1.000000    1.00000  285.000000   \n",
       "\n",
       "       DEATH_EVENT  \n",
       "count    299.00000  \n",
       "mean       0.32107  \n",
       "std        0.46767  \n",
       "min        0.00000  \n",
       "25%        0.00000  \n",
       "50%        0.00000  \n",
       "75%        1.00000  \n",
       "max        1.00000  "
      ]
     },
     "execution_count": 4,
     "metadata": {},
     "output_type": "execute_result"
    }
   ],
   "source": [
    "heart_data.describe()"
   ]
  },
  {
   "cell_type": "markdown",
   "id": "59eabae8",
   "metadata": {
    "papermill": {
     "duration": 0.024691,
     "end_time": "2021-08-07T06:20:40.054994",
     "exception": false,
     "start_time": "2021-08-07T06:20:40.030303",
     "status": "completed"
    },
    "tags": []
   },
   "source": [
    "***Checking for null values:***"
   ]
  },
  {
   "cell_type": "code",
   "execution_count": 5,
   "id": "8ecb2548",
   "metadata": {
    "execution": {
     "iopub.execute_input": "2021-08-07T06:20:40.110933Z",
     "iopub.status.busy": "2021-08-07T06:20:40.110202Z",
     "iopub.status.idle": "2021-08-07T06:20:40.112861Z",
     "shell.execute_reply": "2021-08-07T06:20:40.113343Z",
     "shell.execute_reply.started": "2021-08-07T06:15:43.227621Z"
    },
    "papermill": {
     "duration": 0.03489,
     "end_time": "2021-08-07T06:20:40.113509",
     "exception": false,
     "start_time": "2021-08-07T06:20:40.078619",
     "status": "completed"
    },
    "tags": []
   },
   "outputs": [
    {
     "data": {
      "text/plain": [
       "age                         0\n",
       "anaemia                     0\n",
       "creatinine_phosphokinase    0\n",
       "diabetes                    0\n",
       "ejection_fraction           0\n",
       "high_blood_pressure         0\n",
       "platelets                   0\n",
       "serum_creatinine            0\n",
       "serum_sodium                0\n",
       "sex                         0\n",
       "smoking                     0\n",
       "time                        0\n",
       "DEATH_EVENT                 0\n",
       "dtype: int64"
      ]
     },
     "execution_count": 5,
     "metadata": {},
     "output_type": "execute_result"
    }
   ],
   "source": [
    "heart_data.isna().sum()"
   ]
  },
  {
   "cell_type": "markdown",
   "id": "0c5178de",
   "metadata": {
    "papermill": {
     "duration": 0.024595,
     "end_time": "2021-08-07T06:20:40.162879",
     "exception": false,
     "start_time": "2021-08-07T06:20:40.138284",
     "status": "completed"
    },
    "tags": []
   },
   "source": [
    "We are in luck as we do not have any missing values so we do not have to fill in the dummy values"
   ]
  },
  {
   "cell_type": "markdown",
   "id": "f578ce5d",
   "metadata": {
    "papermill": {
     "duration": 0.02364,
     "end_time": "2021-08-07T06:20:40.210363",
     "exception": false,
     "start_time": "2021-08-07T06:20:40.186723",
     "status": "completed"
    },
    "tags": []
   },
   "source": [
    "# **1. EDA of the data**"
   ]
  },
  {
   "cell_type": "code",
   "execution_count": 6,
   "id": "4499abe8",
   "metadata": {
    "execution": {
     "iopub.execute_input": "2021-08-07T06:20:40.262915Z",
     "iopub.status.busy": "2021-08-07T06:20:40.262168Z",
     "iopub.status.idle": "2021-08-07T06:20:40.638064Z",
     "shell.execute_reply": "2021-08-07T06:20:40.637509Z",
     "shell.execute_reply.started": "2021-08-07T06:15:43.237814Z"
    },
    "papermill": {
     "duration": 0.404031,
     "end_time": "2021-08-07T06:20:40.638221",
     "exception": false,
     "start_time": "2021-08-07T06:20:40.234190",
     "status": "completed"
    },
    "tags": []
   },
   "outputs": [
    {
     "data": {
      "text/plain": [
       "<AxesSubplot:xlabel='age', ylabel='Count'>"
      ]
     },
     "execution_count": 6,
     "metadata": {},
     "output_type": "execute_result"
    },
    {
     "data": {
      "image/png": "[encoded data removed]",
      "text/plain": [
       "<Figure size 720x432 with 1 Axes>"
      ]
     },
     "metadata": {
      "needs_background": "light"
     },
     "output_type": "display_data"
    }
   ],
   "source": [
    "#We plot the distribution of the age of people in the dataset:\n",
    "plt.figure(figsize=(10,6))\n",
    "sns.histplot(data= heart_data, x = \"age\", kde=True)\n"
   ]
  },
  {
   "cell_type": "code",
   "execution_count": 7,
   "id": "df99d9d4",
   "metadata": {
    "execution": {
     "iopub.execute_input": "2021-08-07T06:20:40.740359Z",
     "iopub.status.busy": "2021-08-07T06:20:40.735226Z",
     "iopub.status.idle": "2021-08-07T06:20:40.951877Z",
     "shell.execute_reply": "2021-08-07T06:20:40.951228Z",
     "shell.execute_reply.started": "2021-08-07T06:15:43.651333Z"
    },
    "papermill": {
     "duration": 0.287999,
     "end_time": "2021-08-07T06:20:40.952038",
     "exception": false,
     "start_time": "2021-08-07T06:20:40.664039",
     "status": "completed"
    },
    "tags": []
   },
   "outputs": [
    {
     "data": {
      "text/plain": [
       "<AxesSubplot:xlabel='age', ylabel='Density'>"
      ]
     },
     "execution_count": 7,
     "metadata": {},
     "output_type": "execute_result"
    },
    {
     "data": {
      "image/png": "[encoded data removed]",
      "text/plain": [
       "<Figure size 432x288 with 1 Axes>"
      ]
     },
     "metadata": {
      "needs_background": "light"
     },
     "output_type": "display_data"
    }
   ],
   "source": [
    "# We plot the distribution of the gender of the people coming in:\n",
    "sns.kdeplot(data = heart_data,x= heart_data.age, hue='sex', shade=True)"
   ]
  },
  {
   "cell_type": "code",
   "execution_count": 8,
   "id": "9eb1072a",
   "metadata": {
    "execution": {
     "iopub.execute_input": "2021-08-07T06:20:41.150411Z",
     "iopub.status.busy": "2021-08-07T06:20:41.138953Z",
     "iopub.status.idle": "2021-08-07T06:20:41.366977Z",
     "shell.execute_reply": "2021-08-07T06:20:41.366307Z",
     "shell.execute_reply.started": "2021-08-07T06:15:43.878972Z"
    },
    "papermill": {
     "duration": 0.387523,
     "end_time": "2021-08-07T06:20:41.367182",
     "exception": false,
     "start_time": "2021-08-07T06:20:40.979659",
     "status": "completed"
    },
    "tags": []
   },
   "outputs": [
    {
     "data": {
      "text/plain": [
       "<AxesSubplot:xlabel='sex', ylabel='Density'>"
      ]
     },
     "execution_count": 8,
     "metadata": {},
     "output_type": "execute_result"
    },
    {
     "data": {
      "image/png": "[encoded data removed]",
      "text/plain": [
       "<Figure size 360x360 with 1 Axes>"
      ]
     },
     "metadata": {
      "needs_background": "light"
     },
     "output_type": "display_data"
    }
   ],
   "source": [
    "#To find out the density of the population between male and female genders divided into whether they smoke or not\n",
    "plt.figure(figsize=(5,5))\n",
    "sns.kdeplot(data = heart_data, x = heart_data.sex,hue='smoking', shade=True)"
   ]
  },
  {
   "cell_type": "markdown",
   "id": "7e36229e",
   "metadata": {
    "papermill": {
     "duration": 0.027591,
     "end_time": "2021-08-07T06:20:41.423603",
     "exception": false,
     "start_time": "2021-08-07T06:20:41.396012",
     "status": "completed"
    },
    "tags": []
   },
   "source": [
    "***We can see that there is no difference between the gender of the people diagnosed with heart disease.***"
   ]
  },
  {
   "cell_type": "code",
   "execution_count": 9,
   "id": "1a7094e5",
   "metadata": {
    "execution": {
     "iopub.execute_input": "2021-08-07T06:20:41.509420Z",
     "iopub.status.busy": "2021-08-07T06:20:41.493219Z",
     "iopub.status.idle": "2021-08-07T06:20:41.621336Z",
     "shell.execute_reply": "2021-08-07T06:20:41.620654Z",
     "shell.execute_reply.started": "2021-08-07T06:16:15.536358Z"
    },
    "papermill": {
     "duration": 0.169865,
     "end_time": "2021-08-07T06:20:41.621498",
     "exception": false,
     "start_time": "2021-08-07T06:20:41.451633",
     "status": "completed"
    },
    "tags": []
   },
   "outputs": [
    {
     "name": "stderr",
     "output_type": "stream",
     "text": [
      "/opt/conda/lib/python3.7/site-packages/ipykernel_launcher.py:5: UserWarning: Boolean Series key will be reindexed to match DataFrame index.\n",
      "  \"\"\"\n",
      "/opt/conda/lib/python3.7/site-packages/ipykernel_launcher.py:6: UserWarning: Boolean Series key will be reindexed to match DataFrame index.\n",
      "  \n"
     ]
    },
    {
     "data": {
      "text/plain": [
       "<AxesSubplot:>"
      ]
     },
     "execution_count": 9,
     "metadata": {},
     "output_type": "execute_result"
    },
    {
     "data": {
      "image/png": "[encoded data removed]",
      "text/plain": [
       "<Figure size 432x288 with 1 Axes>"
      ]
     },
     "metadata": {
      "needs_background": "light"
     },
     "output_type": "display_data"
    }
   ],
   "source": [
    "# #Checking out the number of smokers between genders(Assuming 1 for male and 0 for female gender)\n",
    "male = heart_data[heart_data[\"sex\"]==1]\n",
    "female = heart_data[heart_data[\"sex\"]==0]\n",
    "\n",
    "male_smoker = male[heart_data[\"smoking\"]==1]\n",
    "female_smoker = female[heart_data[\"smoking\"]==1]\n",
    "smokers = [len(male_smoker),len(female_smoker)]\n",
    "sns.barplot(y=smokers, x = ['Male smokers','Female Smokers'])"
   ]
  },
  {
   "cell_type": "markdown",
   "id": "256adc48",
   "metadata": {
    "papermill": {
     "duration": 0.028927,
     "end_time": "2021-08-07T06:20:41.680591",
     "exception": false,
     "start_time": "2021-08-07T06:20:41.651664",
     "status": "completed"
    },
    "tags": []
   },
   "source": [
    "As we can see that the male population has "
   ]
  },
  {
   "cell_type": "code",
   "execution_count": 10,
   "id": "06c074e3",
   "metadata": {
    "execution": {
     "iopub.execute_input": "2021-08-07T06:20:41.773997Z",
     "iopub.status.busy": "2021-08-07T06:20:41.757443Z",
     "iopub.status.idle": "2021-08-07T06:20:41.881446Z",
     "shell.execute_reply": "2021-08-07T06:20:41.881958Z"
    },
    "papermill": {
     "duration": 0.170051,
     "end_time": "2021-08-07T06:20:41.882152",
     "exception": false,
     "start_time": "2021-08-07T06:20:41.712101",
     "status": "completed"
    },
    "tags": []
   },
   "outputs": [
    {
     "name": "stderr",
     "output_type": "stream",
     "text": [
      "/opt/conda/lib/python3.7/site-packages/ipykernel_launcher.py:1: UserWarning: Boolean Series key will be reindexed to match DataFrame index.\n",
      "  \"\"\"Entry point for launching an IPython kernel.\n",
      "/opt/conda/lib/python3.7/site-packages/ipykernel_launcher.py:2: UserWarning: Boolean Series key will be reindexed to match DataFrame index.\n",
      "  \n",
      "/opt/conda/lib/python3.7/site-packages/ipykernel_launcher.py:3: UserWarning: Boolean Series key will be reindexed to match DataFrame index.\n",
      "  This is separate from the ipykernel package so we can avoid doing imports until\n",
      "/opt/conda/lib/python3.7/site-packages/ipykernel_launcher.py:4: UserWarning: Boolean Series key will be reindexed to match DataFrame index.\n",
      "  after removing the cwd from sys.path.\n"
     ]
    },
    {
     "data": {
      "image/png": "[encoded data removed]",
      "text/plain": [
       "<Figure size 504x504 with 1 Axes>"
      ]
     },
     "metadata": {},
     "output_type": "display_data"
    }
   ],
   "source": [
    "male_survi = male[heart_data[\"DEATH_EVENT\"]==0]\n",
    "male_not = male[heart_data[\"DEATH_EVENT\"]==1]\n",
    "female_survi = female[heart_data[\"DEATH_EVENT\"]==0]\n",
    "female_not = female[heart_data[\"DEATH_EVENT\"]==1]\n",
    "\n",
    "labels = ['Male - Survived','Male - Not Survived', \"Female -  Survived\", \"Female - Not Survived\"]\n",
    "values = [len(male_survi),len(male_not),\n",
    "         len(female_survi),len(female_not)]\n",
    "plt.figure(figsize=(7,7))\n",
    "def make_autopct(values):\n",
    "    def my_autopct(pct):\n",
    "        total = sum(values)\n",
    "        val = int(round(pct*total/100.0))\n",
    "        return '{p:.2f}%  ({v:d})'.format(p=pct,v=val)\n",
    "    return my_autopct\n",
    "\n",
    "plt.pie(values, labels= labels, autopct=make_autopct(values),  labeldistance=1)\n",
    "# plt.legend()\n",
    "plt.show() "
   ]
  },
  {
   "cell_type": "markdown",
   "id": "309ad0d8",
   "metadata": {
    "papermill": {
     "duration": 0.030286,
     "end_time": "2021-08-07T06:20:41.943152",
     "exception": false,
     "start_time": "2021-08-07T06:20:41.912866",
     "status": "completed"
    },
    "tags": []
   },
   "source": [
    "We would now drill down even more to differentiate between the smokers and non-smokers between genders and find out their survival."
   ]
  },
  {
   "cell_type": "code",
   "execution_count": 11,
   "id": "1a49eaed",
   "metadata": {
    "execution": {
     "iopub.execute_input": "2021-08-07T06:20:42.035241Z",
     "iopub.status.busy": "2021-08-07T06:20:42.032869Z",
     "iopub.status.idle": "2021-08-07T06:20:42.154184Z",
     "shell.execute_reply": "2021-08-07T06:20:42.154890Z"
    },
    "papermill": {
     "duration": 0.180196,
     "end_time": "2021-08-07T06:20:42.155096",
     "exception": false,
     "start_time": "2021-08-07T06:20:41.974900",
     "status": "completed"
    },
    "tags": []
   },
   "outputs": [
    {
     "data": {
      "text/plain": [
       "Text(0.5, 1.0, 'Distribution of survivers')"
      ]
     },
     "execution_count": 11,
     "metadata": {},
     "output_type": "execute_result"
    },
    {
     "data": {
      "image/png": "[encoded data removed]",
      "text/plain": [
       "<Figure size 432x288 with 1 Axes>"
      ]
     },
     "metadata": {},
     "output_type": "display_data"
    }
   ],
   "source": [
    "# Checking among the survivers:\n",
    "male_survi_smoker = male_survi[male_survi['smoking']==1]\n",
    "male_survi_non_smoker = male_survi[male_survi.smoking==0]\n",
    "\n",
    "female_survi_smoker = female_survi[female_survi.smoking==1]\n",
    "female_survi_non_smoker = female_survi[female_survi.smoking==0]\n",
    "\n",
    "labels = ['Male - Smokers','Male - Non-Smokers', 'Female -  Smokers', 'Female - Non smokers']\n",
    "values = [len(male_survi_smoker),len(male_survi_non_smoker),len(female_survi_smoker), len(female_survi_non_smoker)]\n",
    "\n",
    "\n",
    "# plt.subplot(3,4,1)\n",
    "plt.pie(values, labels= labels, autopct=make_autopct(values),  labeldistance=1 ,radius=2)\n",
    "plt.title(\"Distribution of survivers\")\n"
   ]
  },
  {
   "cell_type": "markdown",
   "id": "4eb5f016",
   "metadata": {
    "papermill": {
     "duration": 0.031768,
     "end_time": "2021-08-07T06:20:42.219911",
     "exception": false,
     "start_time": "2021-08-07T06:20:42.188143",
     "status": "completed"
    },
    "tags": []
   },
   "source": [
    "We can see that among the survivers there isnot much difference between the smokers and the no-smokers for the male population but almost all the female population survivers are non-smokers. "
   ]
  },
  {
   "cell_type": "code",
   "execution_count": 12,
   "id": "3939eb79",
   "metadata": {
    "execution": {
     "iopub.execute_input": "2021-08-07T06:20:42.313302Z",
     "iopub.status.busy": "2021-08-07T06:20:42.311434Z",
     "iopub.status.idle": "2021-08-07T06:20:42.435849Z",
     "shell.execute_reply": "2021-08-07T06:20:42.435187Z"
    },
    "papermill": {
     "duration": 0.184008,
     "end_time": "2021-08-07T06:20:42.435999",
     "exception": false,
     "start_time": "2021-08-07T06:20:42.251991",
     "status": "completed"
    },
    "tags": []
   },
   "outputs": [
    {
     "data": {
      "text/plain": [
       "Text(0.5, 1.0, 'Distribution among the people who did not survive')"
      ]
     },
     "execution_count": 12,
     "metadata": {},
     "output_type": "execute_result"
    },
    {
     "data": {
      "image/png": "[encoded data removed]",
      "text/plain": [
       "<Figure size 432x288 with 1 Axes>"
      ]
     },
     "metadata": {},
     "output_type": "display_data"
    }
   ],
   "source": [
    "male_not_survi_smoker = male_not[male_not['smoking']==1]\n",
    "male_not_survi_non_smoker = male_not[male_not['smoking']==0]\n",
    "female_not_survi_smoker = female_not[female_not['smoking']==1]\n",
    "female_not_survi_non_smoker = female_not[female_not['smoking']==0]\n",
    "labels_not = ['Male - Smokers','Male - Non-Smokers', 'Female -  Smokers', 'Female - Non smokers']\n",
    "values_not_survived = [len(male_not_survi_smoker),len(male_not_survi_non_smoker),len(female_not_survi_smoker), len(female_not_survi_non_smoker)]\n",
    "plt.pie(values_not_survived,labels= labels_not, autopct=make_autopct(values_not_survived),  labeldistance=1, radius=2)\n",
    "plt.title(\"Distribution among the people who did not survive\")\n"
   ]
  },
  {
   "cell_type": "code",
   "execution_count": 13,
   "id": "dac38c58",
   "metadata": {
    "execution": {
     "iopub.execute_input": "2021-08-07T06:20:42.527913Z",
     "iopub.status.busy": "2021-08-07T06:20:42.525642Z",
     "iopub.status.idle": "2021-08-07T06:20:43.129542Z",
     "shell.execute_reply": "2021-08-07T06:20:43.128949Z"
    },
    "papermill": {
     "duration": 0.6593,
     "end_time": "2021-08-07T06:20:43.129707",
     "exception": false,
     "start_time": "2021-08-07T06:20:42.470407",
     "status": "completed"
    },
    "tags": []
   },
   "outputs": [
    {
     "name": "stderr",
     "output_type": "stream",
     "text": [
      "/opt/conda/lib/python3.7/site-packages/seaborn/categorical.py:1296: UserWarning: 41.9% of the points cannot be placed; you may want to decrease the size of the markers or use stripplot.\n",
      "  warnings.warn(msg, UserWarning)\n",
      "/opt/conda/lib/python3.7/site-packages/seaborn/categorical.py:1296: UserWarning: 15.6% of the points cannot be placed; you may want to decrease the size of the markers or use stripplot.\n",
      "  warnings.warn(msg, UserWarning)\n"
     ]
    },
    {
     "data": {
      "text/plain": [
       "<AxesSubplot:xlabel='DEATH_EVENT', ylabel='creatinine_phosphokinase'>"
      ]
     },
     "execution_count": 13,
     "metadata": {},
     "output_type": "execute_result"
    },
    {
     "data": {
      "image/png": "[encoded data removed]",
      "text/plain": [
       "<Figure size 432x288 with 1 Axes>"
      ]
     },
     "metadata": {
      "needs_background": "light"
     },
     "output_type": "display_data"
    }
   ],
   "source": [
    "sns.swarmplot(data=heart_data, x = 'DEATH_EVENT', y = 'creatinine_phosphokinase',)"
   ]
  },
  {
   "cell_type": "markdown",
   "id": "d85e7c0e",
   "metadata": {
    "papermill": {
     "duration": 0.036695,
     "end_time": "2021-08-07T06:20:43.203268",
     "exception": false,
     "start_time": "2021-08-07T06:20:43.166573",
     "status": "completed"
    },
    "tags": []
   },
   "source": [
    "There is no particular relationship between the levels of creatinine_phosphokinase and Death Event."
   ]
  },
  {
   "cell_type": "markdown",
   "id": "d2ccfcb6",
   "metadata": {
    "papermill": {
     "duration": 0.035386,
     "end_time": "2021-08-07T06:20:43.275325",
     "exception": false,
     "start_time": "2021-08-07T06:20:43.239939",
     "status": "completed"
    },
    "tags": []
   },
   "source": [
    "# **2. We will now start with our Data Modelling:**\n",
    "# A. Random Forrest Regressor"
   ]
  },
  {
   "cell_type": "code",
   "execution_count": 14,
   "id": "74eaf29c",
   "metadata": {
    "execution": {
     "iopub.execute_input": "2021-08-07T06:20:43.357789Z",
     "iopub.status.busy": "2021-08-07T06:20:43.357081Z",
     "iopub.status.idle": "2021-08-07T06:20:43.367660Z",
     "shell.execute_reply": "2021-08-07T06:20:43.367114Z"
    },
    "papermill": {
     "duration": 0.056118,
     "end_time": "2021-08-07T06:20:43.367815",
     "exception": false,
     "start_time": "2021-08-07T06:20:43.311697",
     "status": "completed"
    },
    "tags": []
   },
   "outputs": [
    {
     "data": {
      "text/html": [
       "<div>\n",
       "<style scoped>\n",
       "    .dataframe tbody tr th:only-of-type {\n",
       "        vertical-align: middle;\n",
       "    }\n",
       "\n",
       "    .dataframe tbody tr th {\n",
       "        vertical-align: top;\n",
       "    }\n",
       "\n",
       "    .dataframe thead th {\n",
       "        text-align: right;\n",
       "    }\n",
       "</style>\n",
       "<table border=\"1\" class=\"dataframe\">\n",
       "  <thead>\n",
       "    <tr style=\"text-align: right;\">\n",
       "      <th></th>\n",
       "      <th>age</th>\n",
       "      <th>anaemia</th>\n",
       "      <th>creatinine_phosphokinase</th>\n",
       "      <th>diabetes</th>\n",
       "      <th>ejection_fraction</th>\n",
       "      <th>high_blood_pressure</th>\n",
       "      <th>platelets</th>\n",
       "      <th>serum_creatinine</th>\n",
       "      <th>serum_sodium</th>\n",
       "      <th>sex</th>\n",
       "      <th>smoking</th>\n",
       "      <th>time</th>\n",
       "      <th>DEATH_EVENT</th>\n",
       "    </tr>\n",
       "  </thead>\n",
       "  <tbody>\n",
       "    <tr>\n",
       "      <th>0</th>\n",
       "      <td>75.0</td>\n",
       "      <td>0</td>\n",
       "      <td>582</td>\n",
       "      <td>0</td>\n",
       "      <td>20</td>\n",
       "      <td>1</td>\n",
       "      <td>265000.00</td>\n",
       "      <td>1.9</td>\n",
       "      <td>130</td>\n",
       "      <td>1</td>\n",
       "      <td>0</td>\n",
       "      <td>4</td>\n",
       "      <td>1</td>\n",
       "    </tr>\n",
       "    <tr>\n",
       "      <th>1</th>\n",
       "      <td>55.0</td>\n",
       "      <td>0</td>\n",
       "      <td>7861</td>\n",
       "      <td>0</td>\n",
       "      <td>38</td>\n",
       "      <td>0</td>\n",
       "      <td>263358.03</td>\n",
       "      <td>1.1</td>\n",
       "      <td>136</td>\n",
       "      <td>1</td>\n",
       "      <td>0</td>\n",
       "      <td>6</td>\n",
       "      <td>1</td>\n",
       "    </tr>\n",
       "    <tr>\n",
       "      <th>2</th>\n",
       "      <td>65.0</td>\n",
       "      <td>0</td>\n",
       "      <td>146</td>\n",
       "      <td>0</td>\n",
       "      <td>20</td>\n",
       "      <td>0</td>\n",
       "      <td>162000.00</td>\n",
       "      <td>1.3</td>\n",
       "      <td>129</td>\n",
       "      <td>1</td>\n",
       "      <td>1</td>\n",
       "      <td>7</td>\n",
       "      <td>1</td>\n",
       "    </tr>\n",
       "    <tr>\n",
       "      <th>3</th>\n",
       "      <td>50.0</td>\n",
       "      <td>1</td>\n",
       "      <td>111</td>\n",
       "      <td>0</td>\n",
       "      <td>20</td>\n",
       "      <td>0</td>\n",
       "      <td>210000.00</td>\n",
       "      <td>1.9</td>\n",
       "      <td>137</td>\n",
       "      <td>1</td>\n",
       "      <td>0</td>\n",
       "      <td>7</td>\n",
       "      <td>1</td>\n",
       "    </tr>\n",
       "    <tr>\n",
       "      <th>4</th>\n",
       "      <td>65.0</td>\n",
       "      <td>1</td>\n",
       "      <td>160</td>\n",
       "      <td>1</td>\n",
       "      <td>20</td>\n",
       "      <td>0</td>\n",
       "      <td>327000.00</td>\n",
       "      <td>2.7</td>\n",
       "      <td>116</td>\n",
       "      <td>0</td>\n",
       "      <td>0</td>\n",
       "      <td>8</td>\n",
       "      <td>1</td>\n",
       "    </tr>\n",
       "  </tbody>\n",
       "</table>\n",
       "</div>"
      ],
      "text/plain": [
       "    age  anaemia  creatinine_phosphokinase  diabetes  ejection_fraction  \\\n",
       "0  75.0        0                       582         0                 20   \n",
       "1  55.0        0                      7861         0                 38   \n",
       "2  65.0        0                       146         0                 20   \n",
       "3  50.0        1                       111         0                 20   \n",
       "4  65.0        1                       160         1                 20   \n",
       "\n",
       "   high_blood_pressure  platelets  serum_creatinine  serum_sodium  sex  \\\n",
       "0                    1  265000.00               1.9           130    1   \n",
       "1                    0  263358.03               1.1           136    1   \n",
       "2                    0  162000.00               1.3           129    1   \n",
       "3                    0  210000.00               1.9           137    1   \n",
       "4                    0  327000.00               2.7           116    0   \n",
       "\n",
       "   smoking  time  DEATH_EVENT  \n",
       "0        0     4            1  \n",
       "1        0     6            1  \n",
       "2        1     7            1  \n",
       "3        0     7            1  \n",
       "4        0     8            1  "
      ]
     },
     "execution_count": 14,
     "metadata": {},
     "output_type": "execute_result"
    }
   ],
   "source": [
    "heart_data.head()"
   ]
  },
  {
   "cell_type": "code",
   "execution_count": 15,
   "id": "451e5165",
   "metadata": {
    "execution": {
     "iopub.execute_input": "2021-08-07T06:20:43.444834Z",
     "iopub.status.busy": "2021-08-07T06:20:43.444092Z",
     "iopub.status.idle": "2021-08-07T06:20:43.470651Z",
     "shell.execute_reply": "2021-08-07T06:20:43.471429Z"
    },
    "papermill": {
     "duration": 0.067256,
     "end_time": "2021-08-07T06:20:43.471631",
     "exception": false,
     "start_time": "2021-08-07T06:20:43.404375",
     "status": "completed"
    },
    "tags": []
   },
   "outputs": [
    {
     "data": {
      "text/html": [
       "<div>\n",
       "<style scoped>\n",
       "    .dataframe tbody tr th:only-of-type {\n",
       "        vertical-align: middle;\n",
       "    }\n",
       "\n",
       "    .dataframe tbody tr th {\n",
       "        vertical-align: top;\n",
       "    }\n",
       "\n",
       "    .dataframe thead th {\n",
       "        text-align: right;\n",
       "    }\n",
       "</style>\n",
       "<table border=\"1\" class=\"dataframe\">\n",
       "  <thead>\n",
       "    <tr style=\"text-align: right;\">\n",
       "      <th></th>\n",
       "      <th>age</th>\n",
       "      <th>anaemia</th>\n",
       "      <th>creatinine_phosphokinase</th>\n",
       "      <th>diabetes</th>\n",
       "      <th>ejection_fraction</th>\n",
       "      <th>high_blood_pressure</th>\n",
       "      <th>platelets</th>\n",
       "      <th>serum_creatinine</th>\n",
       "      <th>serum_sodium</th>\n",
       "      <th>sex</th>\n",
       "      <th>smoking</th>\n",
       "      <th>time</th>\n",
       "    </tr>\n",
       "  </thead>\n",
       "  <tbody>\n",
       "    <tr>\n",
       "      <th>0</th>\n",
       "      <td>75.0</td>\n",
       "      <td>0</td>\n",
       "      <td>582</td>\n",
       "      <td>0</td>\n",
       "      <td>20</td>\n",
       "      <td>1</td>\n",
       "      <td>265000.00</td>\n",
       "      <td>1.9</td>\n",
       "      <td>130</td>\n",
       "      <td>1</td>\n",
       "      <td>0</td>\n",
       "      <td>4</td>\n",
       "    </tr>\n",
       "    <tr>\n",
       "      <th>1</th>\n",
       "      <td>55.0</td>\n",
       "      <td>0</td>\n",
       "      <td>7861</td>\n",
       "      <td>0</td>\n",
       "      <td>38</td>\n",
       "      <td>0</td>\n",
       "      <td>263358.03</td>\n",
       "      <td>1.1</td>\n",
       "      <td>136</td>\n",
       "      <td>1</td>\n",
       "      <td>0</td>\n",
       "      <td>6</td>\n",
       "    </tr>\n",
       "    <tr>\n",
       "      <th>2</th>\n",
       "      <td>65.0</td>\n",
       "      <td>0</td>\n",
       "      <td>146</td>\n",
       "      <td>0</td>\n",
       "      <td>20</td>\n",
       "      <td>0</td>\n",
       "      <td>162000.00</td>\n",
       "      <td>1.3</td>\n",
       "      <td>129</td>\n",
       "      <td>1</td>\n",
       "      <td>1</td>\n",
       "      <td>7</td>\n",
       "    </tr>\n",
       "    <tr>\n",
       "      <th>3</th>\n",
       "      <td>50.0</td>\n",
       "      <td>1</td>\n",
       "      <td>111</td>\n",
       "      <td>0</td>\n",
       "      <td>20</td>\n",
       "      <td>0</td>\n",
       "      <td>210000.00</td>\n",
       "      <td>1.9</td>\n",
       "      <td>137</td>\n",
       "      <td>1</td>\n",
       "      <td>0</td>\n",
       "      <td>7</td>\n",
       "    </tr>\n",
       "    <tr>\n",
       "      <th>4</th>\n",
       "      <td>65.0</td>\n",
       "      <td>1</td>\n",
       "      <td>160</td>\n",
       "      <td>1</td>\n",
       "      <td>20</td>\n",
       "      <td>0</td>\n",
       "      <td>327000.00</td>\n",
       "      <td>2.7</td>\n",
       "      <td>116</td>\n",
       "      <td>0</td>\n",
       "      <td>0</td>\n",
       "      <td>8</td>\n",
       "    </tr>\n",
       "    <tr>\n",
       "      <th>...</th>\n",
       "      <td>...</td>\n",
       "      <td>...</td>\n",
       "      <td>...</td>\n",
       "      <td>...</td>\n",
       "      <td>...</td>\n",
       "      <td>...</td>\n",
       "      <td>...</td>\n",
       "      <td>...</td>\n",
       "      <td>...</td>\n",
       "      <td>...</td>\n",
       "      <td>...</td>\n",
       "      <td>...</td>\n",
       "    </tr>\n",
       "    <tr>\n",
       "      <th>294</th>\n",
       "      <td>62.0</td>\n",
       "      <td>0</td>\n",
       "      <td>61</td>\n",
       "      <td>1</td>\n",
       "      <td>38</td>\n",
       "      <td>1</td>\n",
       "      <td>155000.00</td>\n",
       "      <td>1.1</td>\n",
       "      <td>143</td>\n",
       "      <td>1</td>\n",
       "      <td>1</td>\n",
       "      <td>270</td>\n",
       "    </tr>\n",
       "    <tr>\n",
       "      <th>295</th>\n",
       "      <td>55.0</td>\n",
       "      <td>0</td>\n",
       "      <td>1820</td>\n",
       "      <td>0</td>\n",
       "      <td>38</td>\n",
       "      <td>0</td>\n",
       "      <td>270000.00</td>\n",
       "      <td>1.2</td>\n",
       "      <td>139</td>\n",
       "      <td>0</td>\n",
       "      <td>0</td>\n",
       "      <td>271</td>\n",
       "    </tr>\n",
       "    <tr>\n",
       "      <th>296</th>\n",
       "      <td>45.0</td>\n",
       "      <td>0</td>\n",
       "      <td>2060</td>\n",
       "      <td>1</td>\n",
       "      <td>60</td>\n",
       "      <td>0</td>\n",
       "      <td>742000.00</td>\n",
       "      <td>0.8</td>\n",
       "      <td>138</td>\n",
       "      <td>0</td>\n",
       "      <td>0</td>\n",
       "      <td>278</td>\n",
       "    </tr>\n",
       "    <tr>\n",
       "      <th>297</th>\n",
       "      <td>45.0</td>\n",
       "      <td>0</td>\n",
       "      <td>2413</td>\n",
       "      <td>0</td>\n",
       "      <td>38</td>\n",
       "      <td>0</td>\n",
       "      <td>140000.00</td>\n",
       "      <td>1.4</td>\n",
       "      <td>140</td>\n",
       "      <td>1</td>\n",
       "      <td>1</td>\n",
       "      <td>280</td>\n",
       "    </tr>\n",
       "    <tr>\n",
       "      <th>298</th>\n",
       "      <td>50.0</td>\n",
       "      <td>0</td>\n",
       "      <td>196</td>\n",
       "      <td>0</td>\n",
       "      <td>45</td>\n",
       "      <td>0</td>\n",
       "      <td>395000.00</td>\n",
       "      <td>1.6</td>\n",
       "      <td>136</td>\n",
       "      <td>1</td>\n",
       "      <td>1</td>\n",
       "      <td>285</td>\n",
       "    </tr>\n",
       "  </tbody>\n",
       "</table>\n",
       "<p>299 rows × 12 columns</p>\n",
       "</div>"
      ],
      "text/plain": [
       "      age  anaemia  creatinine_phosphokinase  diabetes  ejection_fraction  \\\n",
       "0    75.0        0                       582         0                 20   \n",
       "1    55.0        0                      7861         0                 38   \n",
       "2    65.0        0                       146         0                 20   \n",
       "3    50.0        1                       111         0                 20   \n",
       "4    65.0        1                       160         1                 20   \n",
       "..    ...      ...                       ...       ...                ...   \n",
       "294  62.0        0                        61         1                 38   \n",
       "295  55.0        0                      1820         0                 38   \n",
       "296  45.0        0                      2060         1                 60   \n",
       "297  45.0        0                      2413         0                 38   \n",
       "298  50.0        0                       196         0                 45   \n",
       "\n",
       "     high_blood_pressure  platelets  serum_creatinine  serum_sodium  sex  \\\n",
       "0                      1  265000.00               1.9           130    1   \n",
       "1                      0  263358.03               1.1           136    1   \n",
       "2                      0  162000.00               1.3           129    1   \n",
       "3                      0  210000.00               1.9           137    1   \n",
       "4                      0  327000.00               2.7           116    0   \n",
       "..                   ...        ...               ...           ...  ...   \n",
       "294                    1  155000.00               1.1           143    1   \n",
       "295                    0  270000.00               1.2           139    0   \n",
       "296                    0  742000.00               0.8           138    0   \n",
       "297                    0  140000.00               1.4           140    1   \n",
       "298                    0  395000.00               1.6           136    1   \n",
       "\n",
       "     smoking  time  \n",
       "0          0     4  \n",
       "1          0     6  \n",
       "2          1     7  \n",
       "3          0     7  \n",
       "4          0     8  \n",
       "..       ...   ...  \n",
       "294        1   270  \n",
       "295        0   271  \n",
       "296        0   278  \n",
       "297        1   280  \n",
       "298        1   285  \n",
       "\n",
       "[299 rows x 12 columns]"
      ]
     },
     "execution_count": 15,
     "metadata": {},
     "output_type": "execute_result"
    }
   ],
   "source": [
    "Features = ['time','ejection_fraction','serum_creatinine','platelets']\n",
    "y = heart_data['DEATH_EVENT']\n",
    "heart_data.drop(['DEATH_EVENT'], axis = 1)"
   ]
  },
  {
   "cell_type": "markdown",
   "id": "bb20e679",
   "metadata": {
    "papermill": {
     "duration": 0.039979,
     "end_time": "2021-08-07T06:20:43.550039",
     "exception": false,
     "start_time": "2021-08-07T06:20:43.510060",
     "status": "completed"
    },
    "tags": []
   },
   "source": [
    "We would not drop any data now and look at how the model performs. Since we do not have any explanation about time we dropped that column."
   ]
  },
  {
   "cell_type": "code",
   "execution_count": 16,
   "id": "cdf52750",
   "metadata": {
    "execution": {
     "iopub.execute_input": "2021-08-07T06:20:43.630621Z",
     "iopub.status.busy": "2021-08-07T06:20:43.629840Z",
     "iopub.status.idle": "2021-08-07T06:20:43.634193Z",
     "shell.execute_reply": "2021-08-07T06:20:43.634727Z"
    },
    "papermill": {
     "duration": 0.046813,
     "end_time": "2021-08-07T06:20:43.634933",
     "exception": false,
     "start_time": "2021-08-07T06:20:43.588120",
     "status": "completed"
    },
    "tags": []
   },
   "outputs": [],
   "source": [
    "from sklearn.model_selection import train_test_split\n",
    "from sklearn.ensemble import GradientBoostingClassifier\n",
    "from sklearn.ensemble import RandomForestClassifier\n",
    "from sklearn.metrics import accuracy_score, confusion_matrix,mean_absolute_error,mean_squared_error\n"
   ]
  },
  {
   "cell_type": "code",
   "execution_count": 17,
   "id": "e43a9094",
   "metadata": {
    "execution": {
     "iopub.execute_input": "2021-08-07T06:20:43.714356Z",
     "iopub.status.busy": "2021-08-07T06:20:43.713618Z",
     "iopub.status.idle": "2021-08-07T06:20:43.720666Z",
     "shell.execute_reply": "2021-08-07T06:20:43.720065Z"
    },
    "papermill": {
     "duration": 0.048386,
     "end_time": "2021-08-07T06:20:43.720835",
     "exception": false,
     "start_time": "2021-08-07T06:20:43.672449",
     "status": "completed"
    },
    "tags": []
   },
   "outputs": [],
   "source": [
    "X_copy = heart_data[Features]\n",
    "y_copy = y.copy()"
   ]
  },
  {
   "cell_type": "code",
   "execution_count": 18,
   "id": "55e812f3",
   "metadata": {
    "execution": {
     "iopub.execute_input": "2021-08-07T06:20:43.800971Z",
     "iopub.status.busy": "2021-08-07T06:20:43.800269Z",
     "iopub.status.idle": "2021-08-07T06:20:44.024103Z",
     "shell.execute_reply": "2021-08-07T06:20:44.024666Z"
    },
    "papermill": {
     "duration": 0.265928,
     "end_time": "2021-08-07T06:20:44.024869",
     "exception": false,
     "start_time": "2021-08-07T06:20:43.758941",
     "status": "completed"
    },
    "tags": []
   },
   "outputs": [
    {
     "name": "stdout",
     "output_type": "stream",
     "text": [
      "Using Random Forrest Classifier:\n",
      "Model accuracy is: 86.66666666666667%\n",
      "Mean absolute error is: 0.13333333333333333\n"
     ]
    }
   ],
   "source": [
    "X_train, X_test, y_train, y_test = train_test_split(X_copy, y_copy, train_size=0.7, random_state=0, shuffle = True)\n",
    "model = RandomForestClassifier(random_state=42)\n",
    "model.fit(X_train,y_train)\n",
    "preds = model.predict(X_test)\n",
    "ac = accuracy_score(y_test, preds)\n",
    "mae = mean_absolute_error(preds,y_test)\n",
    "print(\"Using Random Forrest Classifier:\")\n",
    "print(f'Model accuracy is: {ac*100}%')\n",
    "print(f'Mean absolute error is: {mae}')"
   ]
  },
  {
   "cell_type": "markdown",
   "id": "1e898ead",
   "metadata": {
    "papermill": {
     "duration": 0.049626,
     "end_time": "2021-08-07T06:20:44.127212",
     "exception": false,
     "start_time": "2021-08-07T06:20:44.077586",
     "status": "completed"
    },
    "tags": []
   },
   "source": [
    "\n",
    "#  B. XG BOOST:"
   ]
  },
  {
   "cell_type": "code",
   "execution_count": 19,
   "id": "4a1d22bb",
   "metadata": {
    "execution": {
     "iopub.execute_input": "2021-08-07T06:20:44.218569Z",
     "iopub.status.busy": "2021-08-07T06:20:44.217807Z",
     "iopub.status.idle": "2021-08-07T06:20:44.447091Z",
     "shell.execute_reply": "2021-08-07T06:20:44.446404Z"
    },
    "papermill": {
     "duration": 0.282104,
     "end_time": "2021-08-07T06:20:44.447277",
     "exception": false,
     "start_time": "2021-08-07T06:20:44.165173",
     "status": "completed"
    },
    "tags": []
   },
   "outputs": [
    {
     "name": "stdout",
     "output_type": "stream",
     "text": [
      "For XG BOOST model\n",
      "Mean Absolute Error: 0.2339161004457209\n",
      "The model score for XG BOOST model is: 0.495492540663958\n"
     ]
    }
   ],
   "source": [
    "from xgboost import XGBRegressor\n",
    "my_model = XGBRegressor(n_estimators=100, learning_rate=0.05, n_jobs=4)\n",
    "my_model.fit(X_train, y_train, early_stopping_rounds=5, eval_set=[(X_test, y_test)], verbose=False)\n",
    "predictions = my_model.predict(X_test)\n",
    "xg_ac = my_model.score(X_test, y_test)\n",
    "print('For XG BOOST model')\n",
    "print(\"Mean Absolute Error: \" + str(mean_absolute_error(predictions, y_test)))\n",
    "print(f'The model score for XG BOOST model is: {xg_ac}')\n"
   ]
  },
  {
   "cell_type": "markdown",
   "id": "afbce9aa",
   "metadata": {
    "execution": {
     "iopub.execute_input": "2021-08-07T06:01:06.233617Z",
     "iopub.status.busy": "2021-08-07T06:01:06.233175Z",
     "iopub.status.idle": "2021-08-07T06:01:06.240423Z",
     "shell.execute_reply": "2021-08-07T06:01:06.239111Z",
     "shell.execute_reply.started": "2021-08-07T06:01:06.233578Z"
    },
    "papermill": {
     "duration": 0.039847,
     "end_time": "2021-08-07T06:20:44.532505",
     "exception": false,
     "start_time": "2021-08-07T06:20:44.492658",
     "status": "completed"
    },
    "tags": []
   },
   "source": [
    "> **AS you can see that XG BOOST did not perform better than Random Forrest Classifier. Therefore we go with the Random Forrest model.**"
   ]
  },
  {
   "cell_type": "markdown",
   "id": "6eaad704",
   "metadata": {
    "papermill": {
     "duration": 0.039097,
     "end_time": "2021-08-07T06:20:44.610352",
     "exception": false,
     "start_time": "2021-08-07T06:20:44.571255",
     "status": "completed"
    },
    "tags": []
   },
   "source": [
    "# ***Please let me know in the comments what do you think of my code. Thanks.***"
   ]
  },
  {
   "cell_type": "code",
   "execution_count": null,
   "id": "b7f4685c",
   "metadata": {
    "papermill": {
     "duration": 0.038177,
     "end_time": "2021-08-07T06:20:44.687730",
     "exception": false,
     "start_time": "2021-08-07T06:20:44.649553",
     "status": "completed"
    },
    "tags": []
   },
   "outputs": [],
   "source": []
  }
 ],
 "metadata": {
  "kernelspec": {
   "display_name": "Python 3",
   "language": "python",
   "name": "python3"
  },
  "language_info": {
   "codemirror_mode": {
    "name": "ipython",
    "version": 3
   },
   "file_extension": ".py",
   "mimetype": "text/x-python",
   "name": "python",
   "nbconvert_exporter": "python",
   "pygments_lexer": "ipython3",
   "version": "3.7.10"
  },
  "papermill": {
   "default_parameters": {},
   "duration": 15.739456,
   "end_time": "2021-08-07T06:20:46.054973",
   "environment_variables": {},
   "exception": null,
   "input_path": "__notebook__.ipynb",
   "output_path": "__notebook__.ipynb",
   "parameters": {},
   "start_time": "2021-08-07T06:20:30.315517",
   "version": "2.3.3"
  }
 },
 "nbformat": 4,
 "nbformat_minor": 5
}
